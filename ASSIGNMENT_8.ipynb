{
  "nbformat": 4,
  "nbformat_minor": 0,
  "metadata": {
    "colab": {
      "name": "ASSIGNMENT_8.ipynb",
      "provenance": [],
      "authorship_tag": "ABX9TyONSQHnao2R5kgA8D16CjVT",
      "include_colab_link": true
    },
    "kernelspec": {
      "name": "python3",
      "display_name": "Python 3"
    },
    "language_info": {
      "name": "python"
    }
  },
  "cells": [
    {
      "cell_type": "markdown",
      "metadata": {
        "id": "view-in-github",
        "colab_type": "text"
      },
      "source": [
        "<a href=\"https://colab.research.google.com/github/18K41A0565/NNDL/blob/main/ASSIGNMENT_8.ipynb\" target=\"_parent\"><img src=\"https://colab.research.google.com/assets/colab-badge.svg\" alt=\"Open In Colab\"/></a>"
      ]
    },
    {
      "cell_type": "code",
      "metadata": {
        "colab": {
          "base_uri": "https://localhost:8080/"
        },
        "id": "KRKQYqCXngfZ",
        "outputId": "3ce33920-150c-4c08-8a4f-07665be09fb7"
      },
      "source": [
        "from google.colab import drive\n",
        "drive.mount('/content/drive')"
      ],
      "execution_count": 2,
      "outputs": [
        {
          "output_type": "stream",
          "text": [
            "Mounted at /content/drive\n"
          ],
          "name": "stdout"
        }
      ]
    },
    {
      "cell_type": "code",
      "metadata": {
        "id": "ctKnlH8apKyj"
      },
      "source": [
        "import numpy as np\n",
        "import matplotlib.pyplot as plt\n",
        "import pandas as pd\n",
        "from sklearn.preprocessing import minmax_scale\n",
        "from sklearn.model_selection import train_test_split\n",
        "import seaborn as sns\n",
        "from scipy import stats"
      ],
      "execution_count": 8,
      "outputs": []
    },
    {
      "cell_type": "code",
      "metadata": {
        "colab": {
          "base_uri": "https://localhost:8080/",
          "height": 203
        },
        "id": "mZGOAtvoolrA",
        "outputId": "da740b65-a200-4a35-c106-11652fe56d4a"
      },
      "source": [
        "import pandas as pd\n",
        "data = pd.read_excel('/content/drive/MyDrive/pressure_wts.xlsx')\n",
        "data.head()"
      ],
      "execution_count": 5,
      "outputs": [
        {
          "output_type": "execute_result",
          "data": {
            "text/html": [
              "<div>\n",
              "<style scoped>\n",
              "    .dataframe tbody tr th:only-of-type {\n",
              "        vertical-align: middle;\n",
              "    }\n",
              "\n",
              "    .dataframe tbody tr th {\n",
              "        vertical-align: top;\n",
              "    }\n",
              "\n",
              "    .dataframe thead th {\n",
              "        text-align: right;\n",
              "    }\n",
              "</style>\n",
              "<table border=\"1\" class=\"dataframe\">\n",
              "  <thead>\n",
              "    <tr style=\"text-align: right;\">\n",
              "      <th></th>\n",
              "      <th>pressure</th>\n",
              "      <th>weight</th>\n",
              "    </tr>\n",
              "  </thead>\n",
              "  <tbody>\n",
              "    <tr>\n",
              "      <th>0</th>\n",
              "      <td>75.1</td>\n",
              "      <td>577.8</td>\n",
              "    </tr>\n",
              "    <tr>\n",
              "      <th>1</th>\n",
              "      <td>74.3</td>\n",
              "      <td>577.0</td>\n",
              "    </tr>\n",
              "    <tr>\n",
              "      <th>2</th>\n",
              "      <td>88.7</td>\n",
              "      <td>570.9</td>\n",
              "    </tr>\n",
              "    <tr>\n",
              "      <th>3</th>\n",
              "      <td>114.6</td>\n",
              "      <td>578.6</td>\n",
              "    </tr>\n",
              "    <tr>\n",
              "      <th>4</th>\n",
              "      <td>98.5</td>\n",
              "      <td>572.4</td>\n",
              "    </tr>\n",
              "  </tbody>\n",
              "</table>\n",
              "</div>"
            ],
            "text/plain": [
              "   pressure  weight\n",
              "0      75.1   577.8\n",
              "1      74.3   577.0\n",
              "2      88.7   570.9\n",
              "3     114.6   578.6\n",
              "4      98.5   572.4"
            ]
          },
          "metadata": {
            "tags": []
          },
          "execution_count": 5
        }
      ]
    },
    {
      "cell_type": "code",
      "metadata": {
        "colab": {
          "base_uri": "https://localhost:8080/"
        },
        "id": "17VwkfqloltW",
        "outputId": "0e01f8be-f13d-451e-8ec7-e18476fbf1ce"
      },
      "source": [
        "data.info()"
      ],
      "execution_count": 6,
      "outputs": [
        {
          "output_type": "stream",
          "text": [
            "<class 'pandas.core.frame.DataFrame'>\n",
            "RangeIndex: 30 entries, 0 to 29\n",
            "Data columns (total 2 columns):\n",
            " #   Column    Non-Null Count  Dtype  \n",
            "---  ------    --------------  -----  \n",
            " 0   pressure  30 non-null     float64\n",
            " 1   weight    30 non-null     float64\n",
            "dtypes: float64(2)\n",
            "memory usage: 608.0 bytes\n"
          ],
          "name": "stdout"
        }
      ]
    },
    {
      "cell_type": "code",
      "metadata": {
        "colab": {
          "base_uri": "https://localhost:8080/"
        },
        "id": "w0PHmqpoolv-",
        "outputId": "e09c7af6-5bb3-408e-e0bf-6f321def8e6b"
      },
      "source": [
        "z = np.abs(stats.zscore(data))\n",
        "print(z)"
      ],
      "execution_count": 9,
      "outputs": [
        {
          "output_type": "stream",
          "text": [
            "[[0.90855142 1.61656054]\n",
            " [0.95645395 1.59597943]\n",
            " [0.09420832 1.43904846]\n",
            " [1.45663625 1.63714165]\n",
            " [0.49259774 1.47763804]\n",
            " [1.30095302 2.6694559 ]\n",
            " [1.46861189 0.430574  ]\n",
            " [1.68097979 1.25896373]\n",
            " [1.00156217 2.78522465]\n",
            " [0.01357238 0.20229517]\n",
            " [0.98639304 0.47756754]\n",
            " [1.52849006 0.25117531]\n",
            " [0.54648809 0.22030365]\n",
            " [0.16326781 0.12254337]\n",
            " [0.98040522 0.28461962]\n",
            " [1.4714062  0.22544892]\n",
            " [1.44146712 0.22287629]\n",
            " [0.74089254 0.12254337]\n",
            " [1.16922104 0.16370559]\n",
            " [0.9057571  0.10453489]\n",
            " [0.10019614 0.24603004]\n",
            " [0.04031797 0.05565476]\n",
            " [0.98639304 0.31291865]\n",
            " [0.66025661 0.56503726]\n",
            " [1.77997837 0.10710753]\n",
            " [0.86064888 0.05565476]\n",
            " [0.84268543 0.04021892]\n",
            " [0.50137987 0.12768865]\n",
            " [0.35767226 0.27432906]\n",
            " [0.46265865 0.18102803]]\n"
          ],
          "name": "stdout"
        }
      ]
    },
    {
      "cell_type": "code",
      "metadata": {
        "colab": {
          "base_uri": "https://localhost:8080/",
          "height": 203
        },
        "id": "lvUCh2ftol26",
        "outputId": "8c5a442b-e76e-4aba-c7f2-ba9f2a8f50ba"
      },
      "source": [
        "f_data = data[(z < 3).all(axis=1)]\n",
        "f_data.head()"
      ],
      "execution_count": 11,
      "outputs": [
        {
          "output_type": "execute_result",
          "data": {
            "text/html": [
              "<div>\n",
              "<style scoped>\n",
              "    .dataframe tbody tr th:only-of-type {\n",
              "        vertical-align: middle;\n",
              "    }\n",
              "\n",
              "    .dataframe tbody tr th {\n",
              "        vertical-align: top;\n",
              "    }\n",
              "\n",
              "    .dataframe thead th {\n",
              "        text-align: right;\n",
              "    }\n",
              "</style>\n",
              "<table border=\"1\" class=\"dataframe\">\n",
              "  <thead>\n",
              "    <tr style=\"text-align: right;\">\n",
              "      <th></th>\n",
              "      <th>pressure</th>\n",
              "      <th>weight</th>\n",
              "    </tr>\n",
              "  </thead>\n",
              "  <tbody>\n",
              "    <tr>\n",
              "      <th>0</th>\n",
              "      <td>75.1</td>\n",
              "      <td>577.8</td>\n",
              "    </tr>\n",
              "    <tr>\n",
              "      <th>1</th>\n",
              "      <td>74.3</td>\n",
              "      <td>577.0</td>\n",
              "    </tr>\n",
              "    <tr>\n",
              "      <th>2</th>\n",
              "      <td>88.7</td>\n",
              "      <td>570.9</td>\n",
              "    </tr>\n",
              "    <tr>\n",
              "      <th>3</th>\n",
              "      <td>114.6</td>\n",
              "      <td>578.6</td>\n",
              "    </tr>\n",
              "    <tr>\n",
              "      <th>4</th>\n",
              "      <td>98.5</td>\n",
              "      <td>572.4</td>\n",
              "    </tr>\n",
              "  </tbody>\n",
              "</table>\n",
              "</div>"
            ],
            "text/plain": [
              "   pressure  weight\n",
              "0      75.1   577.8\n",
              "1      74.3   577.0\n",
              "2      88.7   570.9\n",
              "3     114.6   578.6\n",
              "4      98.5   572.4"
            ]
          },
          "metadata": {
            "tags": []
          },
          "execution_count": 11
        }
      ]
    },
    {
      "cell_type": "code",
      "metadata": {
        "colab": {
          "base_uri": "https://localhost:8080/"
        },
        "id": "g0r6_FUpol5H",
        "outputId": "e168eec0-15ce-4365-fbe7-30ed427d7c09"
      },
      "source": [
        "print(len(data))\n",
        "print(len(f_data))\n",
        "if(len(data) == len(f_data)):\n",
        "    print('No outliners')"
      ],
      "execution_count": 12,
      "outputs": [
        {
          "output_type": "stream",
          "text": [
            "30\n",
            "30\n",
            "No outliners\n"
          ],
          "name": "stdout"
        }
      ]
    },
    {
      "cell_type": "code",
      "metadata": {
        "colab": {
          "base_uri": "https://localhost:8080/",
          "height": 203
        },
        "id": "y4mew7rAol7f",
        "outputId": "1dbd6170-5a1f-482a-9e14-cd9e13099851"
      },
      "source": [
        "def min_max_scaling(data):\n",
        "  df_norm = data.copy()\n",
        "  #apply min max scaling\n",
        "  ct=0\n",
        "  newmin=0\n",
        "  newmax=1\n",
        "  for column in df_norm.columns:\n",
        "    df_norm[column]=(df_norm[column]-df_norm[column].min())/(df_norm[column].max()-df_norm[column].min())*(newmax-newmin)+newmin\n",
        "  return df_norm\n",
        "\n",
        "df_norm = min_max_scaling(data)\n",
        "df_norm.head()"
      ],
      "execution_count": 16,
      "outputs": [
        {
          "output_type": "execute_result",
          "data": {
            "text/html": [
              "<div>\n",
              "<style scoped>\n",
              "    .dataframe tbody tr th:only-of-type {\n",
              "        vertical-align: middle;\n",
              "    }\n",
              "\n",
              "    .dataframe tbody tr th {\n",
              "        vertical-align: top;\n",
              "    }\n",
              "\n",
              "    .dataframe thead th {\n",
              "        text-align: right;\n",
              "    }\n",
              "</style>\n",
              "<table border=\"1\" class=\"dataframe\">\n",
              "  <thead>\n",
              "    <tr style=\"text-align: right;\">\n",
              "      <th></th>\n",
              "      <th>pressure</th>\n",
              "      <th>weight</th>\n",
              "    </tr>\n",
              "  </thead>\n",
              "  <tbody>\n",
              "    <tr>\n",
              "      <th>0</th>\n",
              "      <td>0.223183</td>\n",
              "      <td>0.995346</td>\n",
              "    </tr>\n",
              "    <tr>\n",
              "      <th>1</th>\n",
              "      <td>0.209343</td>\n",
              "      <td>0.990692</td>\n",
              "    </tr>\n",
              "    <tr>\n",
              "      <th>2</th>\n",
              "      <td>0.458478</td>\n",
              "      <td>0.955207</td>\n",
              "    </tr>\n",
              "    <tr>\n",
              "      <th>3</th>\n",
              "      <td>0.906574</td>\n",
              "      <td>1.000000</td>\n",
              "    </tr>\n",
              "    <tr>\n",
              "      <th>4</th>\n",
              "      <td>0.628028</td>\n",
              "      <td>0.963933</td>\n",
              "    </tr>\n",
              "  </tbody>\n",
              "</table>\n",
              "</div>"
            ],
            "text/plain": [
              "   pressure    weight\n",
              "0  0.223183  0.995346\n",
              "1  0.209343  0.990692\n",
              "2  0.458478  0.955207\n",
              "3  0.906574  1.000000\n",
              "4  0.628028  0.963933"
            ]
          },
          "metadata": {
            "tags": []
          },
          "execution_count": 16
        }
      ]
    },
    {
      "cell_type": "code",
      "metadata": {
        "id": "Mv4eZW_-ol-I"
      },
      "source": [
        "from sklearn.model_selection import train_test_split\n",
        "x_train, x_test, y_train, y_test = train_test_split(df_norm.pressure, df_norm.weight, test_size = 0.10, random_state = 42)"
      ],
      "execution_count": 17,
      "outputs": []
    },
    {
      "cell_type": "code",
      "metadata": {
        "colab": {
          "base_uri": "https://localhost:8080/"
        },
        "id": "hohcrPd7paaW",
        "outputId": "a207285c-ca32-418e-d2f8-2d1734f52371"
      },
      "source": [
        "x_train.head()"
      ],
      "execution_count": 18,
      "outputs": [
        {
          "output_type": "execute_result",
          "data": {
            "text/plain": [
              "17    0.271626\n",
              "8     0.775087\n",
              "9     0.489619\n",
              "28    0.382353\n",
              "24    1.000000\n",
              "Name: pressure, dtype: float64"
            ]
          },
          "metadata": {
            "tags": []
          },
          "execution_count": 18
        }
      ]
    },
    {
      "cell_type": "code",
      "metadata": {
        "colab": {
          "base_uri": "https://localhost:8080/"
        },
        "id": "fALSo0gApabV",
        "outputId": "0e0cccc6-71a1-4cb2-d746-1d5b8eb7401a"
      },
      "source": [
        "y_train.head()"
      ],
      "execution_count": 19,
      "outputs": [
        {
          "output_type": "execute_result",
          "data": {
            "text/plain": [
              "17    0.602094\n",
              "8     0.000000\n",
              "9     0.584061\n",
              "28    0.567772\n",
              "24    0.605585\n",
              "Name: weight, dtype: float64"
            ]
          },
          "metadata": {
            "tags": []
          },
          "execution_count": 19
        }
      ]
    },
    {
      "cell_type": "code",
      "metadata": {
        "colab": {
          "base_uri": "https://localhost:8080/"
        },
        "id": "yDNS2YWFpae-",
        "outputId": "32a49660-3038-4387-9046-58e729b9c34c"
      },
      "source": [
        "x_test"
      ],
      "execution_count": 20,
      "outputs": [
        {
          "output_type": "execute_result",
          "data": {
            "text/plain": [
              "27    0.340830\n",
              "15    0.060554\n",
              "23    0.676471\n",
              "Name: pressure, dtype: float64"
            ]
          },
          "metadata": {
            "tags": []
          },
          "execution_count": 20
        }
      ]
    },
    {
      "cell_type": "code",
      "metadata": {
        "colab": {
          "base_uri": "https://localhost:8080/"
        },
        "id": "BJVtO2A0pagV",
        "outputId": "6a095022-eed1-4dce-fb55-b612b7a5acab"
      },
      "source": [
        "y_test"
      ],
      "execution_count": 21,
      "outputs": [
        {
          "output_type": "execute_result",
          "data": {
            "text/plain": [
              "27    0.600931\n",
              "15    0.578825\n",
              "23    0.502036\n",
              "Name: weight, dtype: float64"
            ]
          },
          "metadata": {
            "tags": []
          },
          "execution_count": 21
        }
      ]
    },
    {
      "cell_type": "code",
      "metadata": {
        "colab": {
          "base_uri": "https://localhost:8080/"
        },
        "id": "DBX2DCkBpajv",
        "outputId": "cffe6aa3-37c9-41bf-f6b4-1404f6e9b977"
      },
      "source": [
        "for i,j in zip(x_train,y_train):\n",
        "   print(i)\n",
        "   print(j)"
      ],
      "execution_count": 22,
      "outputs": [
        {
          "output_type": "stream",
          "text": [
            "0.2716262975778547\n",
            "0.6020942408376962\n",
            "0.7750865051903114\n",
            "0.0\n",
            "0.4896193771626297\n",
            "0.5840605002908669\n",
            "0.3823529411764705\n",
            "0.5677719604421175\n",
            "1.0\n",
            "0.6055846422338569\n",
            "0.6435986159169551\n",
            "0.5799883653286793\n",
            "0.22318339100346007\n",
            "0.9953461314717855\n",
            "0.6280276816608996\n",
            "0.9639325189063407\n",
            "0.06920415224913495\n",
            "0.5794066317626527\n",
            "0.8615916955017301\n",
            "0.026178010471204185\n",
            "0.532871972318339\n",
            "0.6020942408376962\n",
            "0.9273356401384083\n",
            "0.5730075625363582\n",
            "0.20069204152249126\n",
            "0.5590459569517161\n",
            "0.20934256055363312\n",
            "0.9906922629435717\n",
            "0.45847750865051906\n",
            "0.9552065154159393\n",
            "0.23702422145328725\n",
            "0.6172193135543917\n",
            "0.9065743944636677\n",
            "1.0\n",
            "0.4740484429065743\n",
            "0.6172193135543917\n",
            "0.24221453287197234\n",
            "0.6207097149505525\n",
            "0.8235294117647058\n",
            "0.5927865037812683\n",
            "0.6193771626297577\n",
            "0.6707388016288539\n",
            "0.45674740484429055\n",
            "0.5741710296684117\n",
            "0.0\n",
            "0.914485165794066\n",
            "0.20069204152249126\n",
            "0.5218150087260033\n",
            "0.20242214532871977\n",
            "0.5654450261780103\n",
            "0.7474048442906576\n",
            "0.6061663757998834\n",
            "0.9100346020761245\n",
            "0.7271669575334498\n"
          ],
          "name": "stdout"
        }
      ]
    },
    {
      "cell_type": "code",
      "metadata": {
        "colab": {
          "base_uri": "https://localhost:8080/"
        },
        "id": "TVSiUwtYpaoQ",
        "outputId": "61a1f88d-69b3-4edd-f01a-fdcb208523f6"
      },
      "source": [
        "import sympy as sym\n",
        "from sympy import *\n",
        "import random\n",
        "\n",
        "#step 1 Initialization\n",
        "mi=1 #model parameters\n",
        "ci=-1\n",
        "lr = 0.1  #learning rate\n",
        "epochs = 1500 #maximum iterations\n",
        "iter = 0\n",
        "nsi = len(x_train)\n",
        "\n",
        "while iter<epochs: #step 7 check for convergence criteria\n",
        "  #step 2: start the iter and update while the loop \n",
        "  iter = iter+1\n",
        "  #print(\"ITERATION {}\".format(iter))\n",
        "  \n",
        "  #step 3: Error function for Gradient descent\n",
        "  #declare the variables that you will be using in the error function\n",
        "  x=sym.Symbol('x')\n",
        "  y=sym.Symbol('y')\n",
        "  m=sym.Symbol('m')\n",
        "  c=sym.Symbol('c')\n",
        "  ns = sym.Symbol('ns')\n",
        "  E=(0.5)/ns*(y-m*x-c)**2  #ERROR FUNCTION\n",
        " \n",
        "\n",
        "  derivE_m=sym.diff(E,m) #differentiation of E wrto m\n",
        "  derivE_c=sym.diff(E,c)  #differentiate E wrto c\n",
        "  #print(derivE_m)\n",
        "  #print(derivE_c)\n",
        "  #print('after subs m and c')\n",
        "  #print('in derivE_m')\n",
        "  derivE_m = derivE_m.subs(m, mi) \n",
        "  derivE_m = derivE_m.subs(c, ci)\n",
        "  #print(derivE_m)\n",
        "  #print('in derivE_c')\n",
        "  derivE_c = derivE_c.subs(m, mi) \n",
        "  derivE_c = derivE_c.subs(c, ci)\n",
        "  #print(derivE_c)\n",
        "  #print('after substitution ns value')\n",
        "  derivE_m = derivE_m.subs(ns,nsi)\n",
        "  derivE_c = derivE_c.subs(ns,nsi)\n",
        "  #substitution of the samples all as a single batch\n",
        "  derivE_m_final=0\n",
        "  derivE_c_final=0\n",
        "  for i,j in zip(x_train,y_train):\n",
        "    xi=i\n",
        "    yi=j\n",
        "    #print('x{} '.format(batch)+\"{}\".format(x_train['x'][batch]))\n",
        "    #print('y{} '.format(batch)+\"{}\".format(y_train['y'][batch]))\n",
        "    l1= derivE_m.subs(x,xi)\n",
        "    l2= l1.subs(y,yi)\n",
        "    #print(l2)  \n",
        "    derivE_m_final+=l2\n",
        "    l1 = derivE_c.subs(x,xi)\n",
        "    l2=l1.subs(y,yi)\n",
        "    derivE_c_final+=l2\n",
        "  #print('Final E_m')\n",
        "  #print(derivE_m_final)\n",
        "  #print('Final E_c')\n",
        "  #print(derivE_c_final)\n",
        "  #step 4 - find change in model parms\n",
        "  delta_m = -(lr)*derivE_m_final\n",
        "  delta_c = -(lr)*derivE_c_final\n",
        "\n",
        "  #step 5 - update model params\n",
        "  mi = mi+delta_m\n",
        "  ci = ci+delta_c\n",
        "  #print('m = {}'.format(mi)+' c = {}'.format(ci))\n",
        "  #print('---------------------------------------------------------')\n",
        "\n",
        "#step 8\n",
        "print('Final global minima m and c values:')\n",
        "print('m = {}'.format(mi))\n",
        "print('c = {}'.format(ci))"
      ],
      "execution_count": 23,
      "outputs": [
        {
          "output_type": "stream",
          "text": [
            "Final global minima m and c values:\n",
            "m = -0.203679955314259\n",
            "c = 0.739278761032763\n"
          ],
          "name": "stdout"
        }
      ]
    },
    {
      "cell_type": "code",
      "metadata": {
        "id": "Lv6rGyCtparI"
      },
      "source": [
        "y_train_pred = []\n",
        "for i in x_train:\n",
        "  ycalc = mi*i+ci\n",
        "  y_train_pred.append(ycalc)"
      ],
      "execution_count": 24,
      "outputs": []
    },
    {
      "cell_type": "code",
      "metadata": {
        "colab": {
          "base_uri": "https://localhost:8080/"
        },
        "id": "VMHIExnUomA-",
        "outputId": "9c8b3142-dbf3-421b-9205-75486d3fb1a2"
      },
      "source": [
        "type(x_train)"
      ],
      "execution_count": 25,
      "outputs": [
        {
          "output_type": "execute_result",
          "data": {
            "text/plain": [
              "pandas.core.series.Series"
            ]
          },
          "metadata": {
            "tags": []
          },
          "execution_count": 25
        }
      ]
    },
    {
      "cell_type": "code",
      "metadata": {
        "id": "8iV9QKtssD-d"
      },
      "source": [
        "x_train_list = list(x_train) #typecasting tuple to list\n",
        "y_train_list = list(y_train)"
      ],
      "execution_count": 26,
      "outputs": []
    },
    {
      "cell_type": "code",
      "metadata": {
        "colab": {
          "base_uri": "https://localhost:8080/"
        },
        "id": "ZPqjZgtdsEAv",
        "outputId": "e59f1a86-674e-4367-a30c-ebfdbf48252e"
      },
      "source": [
        "import math\n",
        "from sklearn.metrics import mean_squared_error \n",
        "from sklearn.metrics import mean_absolute_error\n",
        "\n",
        "\n",
        "#Training Accuracies\n",
        "mse = math.sqrt(mean_squared_error(y_train, y_train_pred)) \n",
        "print('Root mean square error', mse) \n",
        "mse = (mean_squared_error(y_train, y_train_pred)) \n",
        "print('Mean square error', mse) \n",
        "mae=mean_absolute_error(y_train, y_train_pred)\n",
        "print('Mean absolute error', mae)"
      ],
      "execution_count": 27,
      "outputs": [
        {
          "output_type": "stream",
          "text": [
            "Root mean square error 0.22922757849721861\n",
            "Mean square error 0.052545282743698525\n",
            "Mean absolute error 0.1660604061949474\n"
          ],
          "name": "stdout"
        }
      ]
    },
    {
      "cell_type": "code",
      "metadata": {
        "colab": {
          "base_uri": "https://localhost:8080/"
        },
        "id": "edWNAzMdsEDH",
        "outputId": "a79886c9-6fa9-4d83-a513-f33d47e0e2d5"
      },
      "source": [
        "y_test_pred = []\n",
        "for i in x_test:\n",
        "  ycalc = mi*i+ci\n",
        "  y_test_pred.append(ycalc)\n",
        "y_test_pred"
      ],
      "execution_count": 28,
      "outputs": [
        {
          "output_type": "execute_result",
          "data": {
            "text/plain": [
              "[0.669858430242263, 0.726945199724807, 0.601495261849588]"
            ]
          },
          "metadata": {
            "tags": []
          },
          "execution_count": 28
        }
      ]
    },
    {
      "cell_type": "code",
      "metadata": {
        "colab": {
          "base_uri": "https://localhost:8080/"
        },
        "id": "DXwgc7O1sOyV",
        "outputId": "55838dab-9036-4ed1-de6a-aaa778b6133e"
      },
      "source": [
        "y_test_list = list(y_test)\n",
        "\n",
        "mse_test_total=0\n",
        "MSError_test = []\n",
        "for i in range(0,len(x_test)):\n",
        "  mse_test = (y_test_list[i]-y_test_pred[i])\n",
        "  mse_test_total+=mse_test\n",
        "  MSError_test.append(mse_test)\n",
        "\n",
        "\n",
        "print('MSE - TESTING ERROR obtained:')\n",
        "print(MSError_test)\n",
        "print('Mean Square Error: ',mse_test_total/len(x_test))"
      ],
      "execution_count": 29,
      "outputs": [
        {
          "output_type": "stream",
          "text": [
            "MSE - TESTING ERROR obtained:\n",
            "[-0.0689276565366207, -0.148120301528181, -0.0994591943684947]\n",
            "Mean Square Error:  -0.105502384144432\n"
          ],
          "name": "stdout"
        }
      ]
    },
    {
      "cell_type": "code",
      "metadata": {
        "colab": {
          "base_uri": "https://localhost:8080/"
        },
        "id": "c0UMPswssOz_",
        "outputId": "a59934db-463a-4c58-a6c7-3d9493f083d0"
      },
      "source": [
        "#Testing Accuracies\n",
        "mse = math.sqrt(mean_squared_error(y_test, y_test_pred)) \n",
        "print('Root mean square error', mse) \n",
        "mse = (mean_squared_error(y_test, y_test_pred)) \n",
        "print('Mean square error', mse) \n",
        "mae=mean_absolute_error(y_test, y_test_pred)\n",
        "print('Mean absolute error', mae)"
      ],
      "execution_count": 30,
      "outputs": [
        {
          "output_type": "stream",
          "text": [
            "Root mean square error 0.11042761868430614\n",
            "Mean square error 0.012194258968286518\n",
            "Mean absolute error 0.10550238414443207\n"
          ],
          "name": "stdout"
        }
      ]
    },
    {
      "cell_type": "code",
      "metadata": {
        "id": "CYW6nsYTsO3i"
      },
      "source": [
        "x_min = df['pressure'].min()\n",
        "x_max = df['pressure'].max()\n",
        "y_min = df['weight'].min()\n",
        "y_max = df['weight'].max()"
      ],
      "execution_count": 31,
      "outputs": []
    },
    {
      "cell_type": "code",
      "metadata": {
        "colab": {
          "base_uri": "https://localhost:8080/"
        },
        "id": "Kew0nVCZsO5I",
        "outputId": "4b90acae-ec0e-40bc-b19d-b8b95eea72d1"
      },
      "source": [
        "x =x1 = float(input(\"Enter pressure of liquid nitrogen value :\"))\n",
        "x = (x - x_min)/(x_max - x_min)\n",
        "y = mi*x + ci\n",
        "y = y*(y_max - y_min) + y_min\n",
        "print(f\"weight of liquid nitrogen for pressure {x1} is : {y}\")"
      ],
      "execution_count": 33,
      "outputs": [
        {
          "output_type": "stream",
          "text": [
            "Enter pressure of liquid nitrogen value :150\n",
            "weight of liquid nitrogen for pressure 150.0 is : 480.596813084401\n"
          ],
          "name": "stdout"
        }
      ]
    }
  ]
}