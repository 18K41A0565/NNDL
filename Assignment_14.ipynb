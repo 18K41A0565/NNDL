{
  "nbformat": 4,
  "nbformat_minor": 0,
  "metadata": {
    "colab": {
      "name": "Assignment-14.ipynb",
      "provenance": [],
      "authorship_tag": "ABX9TyOD1+ulKhv3/hZ7xI/1UYIi",
      "include_colab_link": true
    },
    "kernelspec": {
      "name": "python3",
      "display_name": "Python 3"
    },
    "language_info": {
      "name": "python"
    }
  },
  "cells": [
    {
      "cell_type": "markdown",
      "metadata": {
        "id": "view-in-github",
        "colab_type": "text"
      },
      "source": [
        "<a href=\"https://colab.research.google.com/github/18K41A0565/NNDL/blob/main/Assignment_14.ipynb\" target=\"_parent\"><img src=\"https://colab.research.google.com/assets/colab-badge.svg\" alt=\"Open In Colab\"/></a>"
      ]
    },
    {
      "cell_type": "code",
      "metadata": {
        "id": "TP8OlqyPnk4e"
      },
      "source": [
        "#Adagrad + SGD\n",
        "import numpy as np\n",
        "import matplotlib.pyplot as plt\n",
        "import pandas as pd\n",
        "from sklearn.preprocessing import minmax_scale\n",
        "from sklearn.model_selection import train_test_split\n",
        "import seaborn as sns\n",
        "from scipy import stats"
      ],
      "execution_count": null,
      "outputs": []
    },
    {
      "cell_type": "code",
      "metadata": {
        "colab": {
          "base_uri": "https://localhost:8080/"
        },
        "id": "cHO_7jrZnocn",
        "outputId": "e727b314-6089-4d96-c2d1-73c0bc95772a"
      },
      "source": [
        "from google.colab import drive\n",
        "drive.mount('/content/drive')"
      ],
      "execution_count": null,
      "outputs": [
        {
          "output_type": "stream",
          "text": [
            "Mounted at /content/drive\n"
          ],
          "name": "stdout"
        }
      ]
    },
    {
      "cell_type": "code",
      "metadata": {
        "colab": {
          "base_uri": "https://localhost:8080/",
          "height": 417
        },
        "id": "ecGAUscOnoep",
        "outputId": "f5656f0f-4257-49f5-d10b-e9e0d9b90b07"
      },
      "source": [
        "data = pd.read_excel(\"/content/drive/MyDrive/Load_Data_in_kW.xlsx\",header=None)\n",
        "data"
      ],
      "execution_count": 5,
      "outputs": [
        {
          "output_type": "execute_result",
          "data": {
            "text/html": [
              "<div>\n",
              "<style scoped>\n",
              "    .dataframe tbody tr th:only-of-type {\n",
              "        vertical-align: middle;\n",
              "    }\n",
              "\n",
              "    .dataframe tbody tr th {\n",
              "        vertical-align: top;\n",
              "    }\n",
              "\n",
              "    .dataframe thead th {\n",
              "        text-align: right;\n",
              "    }\n",
              "</style>\n",
              "<table border=\"1\" class=\"dataframe\">\n",
              "  <thead>\n",
              "    <tr style=\"text-align: right;\">\n",
              "      <th></th>\n",
              "      <th>0</th>\n",
              "    </tr>\n",
              "  </thead>\n",
              "  <tbody>\n",
              "    <tr>\n",
              "      <th>0</th>\n",
              "      <td>5551.82208</td>\n",
              "    </tr>\n",
              "    <tr>\n",
              "      <th>1</th>\n",
              "      <td>4983.17184</td>\n",
              "    </tr>\n",
              "    <tr>\n",
              "      <th>2</th>\n",
              "      <td>4888.39680</td>\n",
              "    </tr>\n",
              "    <tr>\n",
              "      <th>3</th>\n",
              "      <td>5072.95872</td>\n",
              "    </tr>\n",
              "    <tr>\n",
              "      <th>4</th>\n",
              "      <td>5196.25980</td>\n",
              "    </tr>\n",
              "    <tr>\n",
              "      <th>...</th>\n",
              "      <td>...</td>\n",
              "    </tr>\n",
              "    <tr>\n",
              "      <th>2179</th>\n",
              "      <td>4626.51840</td>\n",
              "    </tr>\n",
              "    <tr>\n",
              "      <th>2180</th>\n",
              "      <td>4567.90752</td>\n",
              "    </tr>\n",
              "    <tr>\n",
              "      <th>2181</th>\n",
              "      <td>4723.63164</td>\n",
              "    </tr>\n",
              "    <tr>\n",
              "      <th>2182</th>\n",
              "      <td>5150.27520</td>\n",
              "    </tr>\n",
              "    <tr>\n",
              "      <th>2183</th>\n",
              "      <td>6938.37468</td>\n",
              "    </tr>\n",
              "  </tbody>\n",
              "</table>\n",
              "<p>2184 rows × 1 columns</p>\n",
              "</div>"
            ],
            "text/plain": [
              "               0\n",
              "0     5551.82208\n",
              "1     4983.17184\n",
              "2     4888.39680\n",
              "3     5072.95872\n",
              "4     5196.25980\n",
              "...          ...\n",
              "2179  4626.51840\n",
              "2180  4567.90752\n",
              "2181  4723.63164\n",
              "2182  5150.27520\n",
              "2183  6938.37468\n",
              "\n",
              "[2184 rows x 1 columns]"
            ]
          },
          "metadata": {
            "tags": []
          },
          "execution_count": 5
        }
      ]
    },
    {
      "cell_type": "code",
      "metadata": {
        "id": "9qWu_3acnoiI",
        "colab": {
          "base_uri": "https://localhost:8080/",
          "height": 417
        },
        "outputId": "fa346e3d-986f-45ea-c846-e887370f9288"
      },
      "source": [
        "df = data\n",
        "q = df[0].quantile(0.99)\n",
        "df[df[0] < q]\n",
        "q_low = df[0].quantile(0.01)\n",
        "q_hi  = df[0].quantile(0.99)\n",
        "\n",
        "df_filter= df[(df[0] < q_hi) & (df[0] > q_low)]\n",
        "df_filter"
      ],
      "execution_count": 6,
      "outputs": [
        {
          "output_type": "execute_result",
          "data": {
            "text/html": [
              "<div>\n",
              "<style scoped>\n",
              "    .dataframe tbody tr th:only-of-type {\n",
              "        vertical-align: middle;\n",
              "    }\n",
              "\n",
              "    .dataframe tbody tr th {\n",
              "        vertical-align: top;\n",
              "    }\n",
              "\n",
              "    .dataframe thead th {\n",
              "        text-align: right;\n",
              "    }\n",
              "</style>\n",
              "<table border=\"1\" class=\"dataframe\">\n",
              "  <thead>\n",
              "    <tr style=\"text-align: right;\">\n",
              "      <th></th>\n",
              "      <th>0</th>\n",
              "    </tr>\n",
              "  </thead>\n",
              "  <tbody>\n",
              "    <tr>\n",
              "      <th>0</th>\n",
              "      <td>5551.82208</td>\n",
              "    </tr>\n",
              "    <tr>\n",
              "      <th>1</th>\n",
              "      <td>4983.17184</td>\n",
              "    </tr>\n",
              "    <tr>\n",
              "      <th>2</th>\n",
              "      <td>4888.39680</td>\n",
              "    </tr>\n",
              "    <tr>\n",
              "      <th>3</th>\n",
              "      <td>5072.95872</td>\n",
              "    </tr>\n",
              "    <tr>\n",
              "      <th>4</th>\n",
              "      <td>5196.25980</td>\n",
              "    </tr>\n",
              "    <tr>\n",
              "      <th>...</th>\n",
              "      <td>...</td>\n",
              "    </tr>\n",
              "    <tr>\n",
              "      <th>2179</th>\n",
              "      <td>4626.51840</td>\n",
              "    </tr>\n",
              "    <tr>\n",
              "      <th>2180</th>\n",
              "      <td>4567.90752</td>\n",
              "    </tr>\n",
              "    <tr>\n",
              "      <th>2181</th>\n",
              "      <td>4723.63164</td>\n",
              "    </tr>\n",
              "    <tr>\n",
              "      <th>2182</th>\n",
              "      <td>5150.27520</td>\n",
              "    </tr>\n",
              "    <tr>\n",
              "      <th>2183</th>\n",
              "      <td>6938.37468</td>\n",
              "    </tr>\n",
              "  </tbody>\n",
              "</table>\n",
              "<p>2140 rows × 1 columns</p>\n",
              "</div>"
            ],
            "text/plain": [
              "               0\n",
              "0     5551.82208\n",
              "1     4983.17184\n",
              "2     4888.39680\n",
              "3     5072.95872\n",
              "4     5196.25980\n",
              "...          ...\n",
              "2179  4626.51840\n",
              "2180  4567.90752\n",
              "2181  4723.63164\n",
              "2182  5150.27520\n",
              "2183  6938.37468\n",
              "\n",
              "[2140 rows x 1 columns]"
            ]
          },
          "metadata": {
            "tags": []
          },
          "execution_count": 6
        }
      ]
    },
    {
      "cell_type": "code",
      "metadata": {
        "colab": {
          "base_uri": "https://localhost:8080/"
        },
        "id": "MDXvvcN0oQ-E",
        "outputId": "f2707b00-23e0-4573-80e3-921e28184da0"
      },
      "source": [
        "print(len(data))\n",
        "print(len(df_filter))\n",
        "if(len(data) == len(df_filter)):\n",
        "    print('No outliners')"
      ],
      "execution_count": 7,
      "outputs": [
        {
          "output_type": "stream",
          "text": [
            "2184\n",
            "2140\n"
          ],
          "name": "stdout"
        }
      ]
    },
    {
      "cell_type": "code",
      "metadata": {
        "colab": {
          "base_uri": "https://localhost:8080/",
          "height": 417
        },
        "id": "f4r45AFYoRAU",
        "outputId": "7d25e9e8-26a1-42a5-bc31-277975570074"
      },
      "source": [
        "#normalize\n",
        "data = df_filter\n",
        "data_n = data.copy()\n",
        "data_n = (data_n - data_n.min())/(data_n.max() - data_n.min())\n",
        "data_n"
      ],
      "execution_count": 8,
      "outputs": [
        {
          "output_type": "execute_result",
          "data": {
            "text/html": [
              "<div>\n",
              "<style scoped>\n",
              "    .dataframe tbody tr th:only-of-type {\n",
              "        vertical-align: middle;\n",
              "    }\n",
              "\n",
              "    .dataframe tbody tr th {\n",
              "        vertical-align: top;\n",
              "    }\n",
              "\n",
              "    .dataframe thead th {\n",
              "        text-align: right;\n",
              "    }\n",
              "</style>\n",
              "<table border=\"1\" class=\"dataframe\">\n",
              "  <thead>\n",
              "    <tr style=\"text-align: right;\">\n",
              "      <th></th>\n",
              "      <th>0</th>\n",
              "    </tr>\n",
              "  </thead>\n",
              "  <tbody>\n",
              "    <tr>\n",
              "      <th>0</th>\n",
              "      <td>0.372950</td>\n",
              "    </tr>\n",
              "    <tr>\n",
              "      <th>1</th>\n",
              "      <td>0.254941</td>\n",
              "    </tr>\n",
              "    <tr>\n",
              "      <th>2</th>\n",
              "      <td>0.235273</td>\n",
              "    </tr>\n",
              "    <tr>\n",
              "      <th>3</th>\n",
              "      <td>0.273574</td>\n",
              "    </tr>\n",
              "    <tr>\n",
              "      <th>4</th>\n",
              "      <td>0.299162</td>\n",
              "    </tr>\n",
              "    <tr>\n",
              "      <th>...</th>\n",
              "      <td>...</td>\n",
              "    </tr>\n",
              "    <tr>\n",
              "      <th>2179</th>\n",
              "      <td>0.180927</td>\n",
              "    </tr>\n",
              "    <tr>\n",
              "      <th>2180</th>\n",
              "      <td>0.168764</td>\n",
              "    </tr>\n",
              "    <tr>\n",
              "      <th>2181</th>\n",
              "      <td>0.201080</td>\n",
              "    </tr>\n",
              "    <tr>\n",
              "      <th>2182</th>\n",
              "      <td>0.289619</td>\n",
              "    </tr>\n",
              "    <tr>\n",
              "      <th>2183</th>\n",
              "      <td>0.660693</td>\n",
              "    </tr>\n",
              "  </tbody>\n",
              "</table>\n",
              "<p>2140 rows × 1 columns</p>\n",
              "</div>"
            ],
            "text/plain": [
              "             0\n",
              "0     0.372950\n",
              "1     0.254941\n",
              "2     0.235273\n",
              "3     0.273574\n",
              "4     0.299162\n",
              "...        ...\n",
              "2179  0.180927\n",
              "2180  0.168764\n",
              "2181  0.201080\n",
              "2182  0.289619\n",
              "2183  0.660693\n",
              "\n",
              "[2140 rows x 1 columns]"
            ]
          },
          "metadata": {
            "tags": []
          },
          "execution_count": 8
        }
      ]
    },
    {
      "cell_type": "code",
      "metadata": {
        "colab": {
          "base_uri": "https://localhost:8080/",
          "height": 434
        },
        "id": "wxEUDdlboRD-",
        "outputId": "6a861188-6446-40f5-91d8-c1ad2a896d15"
      },
      "source": [
        "train_data,test_data = train_test_split(data_n,test_size=0.1)\n",
        "print(len(train_data))\n",
        "train_data"
      ],
      "execution_count": 9,
      "outputs": [
        {
          "output_type": "stream",
          "text": [
            "1926\n"
          ],
          "name": "stdout"
        },
        {
          "output_type": "execute_result",
          "data": {
            "text/html": [
              "<div>\n",
              "<style scoped>\n",
              "    .dataframe tbody tr th:only-of-type {\n",
              "        vertical-align: middle;\n",
              "    }\n",
              "\n",
              "    .dataframe tbody tr th {\n",
              "        vertical-align: top;\n",
              "    }\n",
              "\n",
              "    .dataframe thead th {\n",
              "        text-align: right;\n",
              "    }\n",
              "</style>\n",
              "<table border=\"1\" class=\"dataframe\">\n",
              "  <thead>\n",
              "    <tr style=\"text-align: right;\">\n",
              "      <th></th>\n",
              "      <th>0</th>\n",
              "    </tr>\n",
              "  </thead>\n",
              "  <tbody>\n",
              "    <tr>\n",
              "      <th>1720</th>\n",
              "      <td>0.154401</td>\n",
              "    </tr>\n",
              "    <tr>\n",
              "      <th>1183</th>\n",
              "      <td>0.310355</td>\n",
              "    </tr>\n",
              "    <tr>\n",
              "      <th>235</th>\n",
              "      <td>0.782842</td>\n",
              "    </tr>\n",
              "    <tr>\n",
              "      <th>792</th>\n",
              "      <td>0.343965</td>\n",
              "    </tr>\n",
              "    <tr>\n",
              "      <th>1946</th>\n",
              "      <td>0.387798</td>\n",
              "    </tr>\n",
              "    <tr>\n",
              "      <th>...</th>\n",
              "      <td>...</td>\n",
              "    </tr>\n",
              "    <tr>\n",
              "      <th>140</th>\n",
              "      <td>0.603015</td>\n",
              "    </tr>\n",
              "    <tr>\n",
              "      <th>1268</th>\n",
              "      <td>0.401514</td>\n",
              "    </tr>\n",
              "    <tr>\n",
              "      <th>1847</th>\n",
              "      <td>0.594345</td>\n",
              "    </tr>\n",
              "    <tr>\n",
              "      <th>1416</th>\n",
              "      <td>0.659431</td>\n",
              "    </tr>\n",
              "    <tr>\n",
              "      <th>1396</th>\n",
              "      <td>0.313234</td>\n",
              "    </tr>\n",
              "  </tbody>\n",
              "</table>\n",
              "<p>1926 rows × 1 columns</p>\n",
              "</div>"
            ],
            "text/plain": [
              "             0\n",
              "1720  0.154401\n",
              "1183  0.310355\n",
              "235   0.782842\n",
              "792   0.343965\n",
              "1946  0.387798\n",
              "...        ...\n",
              "140   0.603015\n",
              "1268  0.401514\n",
              "1847  0.594345\n",
              "1416  0.659431\n",
              "1396  0.313234\n",
              "\n",
              "[1926 rows x 1 columns]"
            ]
          },
          "metadata": {
            "tags": []
          },
          "execution_count": 9
        }
      ]
    },
    {
      "cell_type": "code",
      "metadata": {
        "id": "9j65AOy0oRGU"
      },
      "source": [
        "xar = []\n",
        "yar = []\n",
        "for i in range(len(train_data.iloc[:,0])-(7*24)):\n",
        "    xar.append(train_data.iloc[i,0])\n",
        "    yar.append(train_data.iloc[i+(7*24),0])"
      ],
      "execution_count": 10,
      "outputs": []
    },
    {
      "cell_type": "code",
      "metadata": {
        "colab": {
          "base_uri": "https://localhost:8080/"
        },
        "id": "bKak9-bRoRKY",
        "outputId": "a274ff13-b2fb-4428-f680-e2f8c3f40b21"
      },
      "source": [
        "from sympy import *\n",
        "m, c = symbols('m c')\n",
        "exp = '0.5*(y-m*x-c)**2'\n",
        "exp_diff = Derivative(exp,m)\n",
        "dfm = exp_diff.doit()\n",
        "exp_diff = Derivative(exp,c)\n",
        "dfc = exp_diff.doit()\n",
        "err=[]\n",
        "print(f'1st order derivative w.r.t m and c :\\nde/dm = {dfm} \\nde/dc = {dfc}')\n",
        "#step 1:\n",
        "m1=1\n",
        "c1=-1\n",
        "learning_rate=0.1\n",
        "itr=20\n",
        "gm=gc=0\n",
        "e=10**(-8)\n",
        "\n",
        "for i in range(0,itr):\n",
        "  er=0\n",
        "  for j in range(0,len(xar)):\n",
        "    er +=  ((yar[j] - (m1 * xar[j]) - c1))**2\n",
        "    #step 2:\n",
        "    m,c,x,y = symbols('m c x y')\n",
        "    dedm = dfm.subs(m,m1)\n",
        "    dedm = dedm.subs(c, c1) \n",
        "    dedm= dedm.subs(x, xar[j]) \n",
        "    dedm = dedm.subs(y, yar[j])\n",
        "    dedm = round(dedm,2)\n",
        "    dedc = dfc.subs(c,c1)\n",
        "    dedc = dedc.subs(m, m1) \n",
        "    dedc = dedc.subs(x, xar[j]) \n",
        "    dedc = dedc.subs(y, yar[j])\n",
        "    dedc = round(dedc,2)\n",
        "    gm=gm+(dedm**2)\n",
        "    gc=gc+(dedc**2)\n",
        "    #step 3:\n",
        "    vm = (-1.0)*(learning_rate/(gm+e)**(0.5))*dedm\n",
        "    vc = (-1.0)*(learning_rate/(gc+e)**(0.5))*dedc\n",
        "    #step 4:\n",
        "    m1 = m1+vm\n",
        "    m1 = round(m1,2)\n",
        "    c1 = c1+vc\n",
        "    c1 = round(c1,2)\n",
        "    er = (1/(2*len(xar)))*(er)\n",
        "    err.append(er)\n",
        "\n",
        "print(f'min value of m = {m1} \\nmin value of c = {c1}')"
      ],
      "execution_count": 11,
      "outputs": [
        {
          "output_type": "stream",
          "text": [
            "1st order derivative w.r.t m and c :\n",
            "de/dm = -1.0*x*(-c - m*x + y) \n",
            "de/dc = 1.0*c + 1.0*m*x - 1.0*y\n",
            "min value of m = 0.28 \n",
            "min value of c = 0.25\n"
          ],
          "name": "stdout"
        }
      ]
    },
    {
      "cell_type": "code",
      "metadata": {
        "colab": {
          "base_uri": "https://localhost:8080/"
        },
        "id": "cjTCxGm9oRNW",
        "outputId": "0d44013a-0f38-42ad-86bb-5a5a60a175c1"
      },
      "source": [
        "#RMSE - Training data\n",
        "train_data_pred = [i for i in xar]\n",
        "for k in range(len(xar)):\n",
        "    train_data_pred[k]=(m1*xar[k] + c1)\n",
        "from sklearn.metrics import mean_squared_error\n",
        "mse = mean_squared_error(yar,train_data_pred)\n",
        "mse"
      ],
      "execution_count": 12,
      "outputs": [
        {
          "output_type": "execute_result",
          "data": {
            "text/plain": [
              "0.056307537734275735"
            ]
          },
          "metadata": {
            "tags": []
          },
          "execution_count": 12
        }
      ]
    },
    {
      "cell_type": "code",
      "metadata": {
        "colab": {
          "base_uri": "https://localhost:8080/"
        },
        "id": "OJrI89KEotD0",
        "outputId": "0ca7f5ac-eb44-4fa0-c317-dbda3e26d92d"
      },
      "source": [
        "#MSE - Test Data\n",
        "xar = []\n",
        "yar = []\n",
        "for i in range(len(test_data.iloc[:,0])-24):\n",
        "    xar.append(test_data.iloc[i,0])\n",
        "    yar.append(test_data.iloc[i+24,0])\n",
        "test_data_pred = [i for i in xar]\n",
        "for k in range(len(xar)):\n",
        "    test_data_pred[k]=(m1*xar[k] + c1)\n",
        "from sklearn.metrics import mean_squared_error\n",
        "mse = mean_squared_error(yar,test_data_pred)\n",
        "mse"
      ],
      "execution_count": 13,
      "outputs": [
        {
          "output_type": "execute_result",
          "data": {
            "text/plain": [
              "0.06284609627579407"
            ]
          },
          "metadata": {
            "tags": []
          },
          "execution_count": 13
        }
      ]
    },
    {
      "cell_type": "code",
      "metadata": {
        "id": "jW8OnBZZotFo"
      },
      "source": [
        ""
      ],
      "execution_count": null,
      "outputs": []
    },
    {
      "cell_type": "code",
      "metadata": {
        "id": "5zdP-SPzotIz"
      },
      "source": [
        ""
      ],
      "execution_count": null,
      "outputs": []
    },
    {
      "cell_type": "code",
      "metadata": {
        "id": "nKNA3X8hotK6"
      },
      "source": [
        ""
      ],
      "execution_count": null,
      "outputs": []
    },
    {
      "cell_type": "code",
      "metadata": {
        "id": "YK7-USs-otOv"
      },
      "source": [
        ""
      ],
      "execution_count": null,
      "outputs": []
    },
    {
      "cell_type": "code",
      "metadata": {
        "id": "T8TYz4f9otRj"
      },
      "source": [
        ""
      ],
      "execution_count": null,
      "outputs": []
    }
  ]
}